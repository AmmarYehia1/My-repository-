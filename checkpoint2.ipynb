{
 "cells": [
  {
   "cell_type": "code",
   "execution_count": 1,
   "id": "de7052ff",
   "metadata": {},
   "outputs": [
    {
     "name": "stdout",
     "output_type": "stream",
     "text": [
      "ammar\n",
      "yehia\n",
      "ammar yehia\n"
     ]
    }
   ],
   "source": [
    "first_name=input()\n",
    "last_name=input()\n",
    "print(first_name+' ' +last_name) "
   ]
  },
  {
   "cell_type": "code",
   "execution_count": 2,
   "id": "1a5e04e0",
   "metadata": {},
   "outputs": [
    {
     "name": "stdout",
     "output_type": "stream",
     "text": [
      "615\n"
     ]
    }
   ],
   "source": [
    "x='5'\n",
    "y=x+x\n",
    "z=x+x+x\n",
    "a=int(x)\n",
    "b=int(y)\n",
    "c=int(z)\n",
    "print(a+b+c)\n"
   ]
  },
  {
   "cell_type": "code",
   "execution_count": 3,
   "id": "35c2746c",
   "metadata": {},
   "outputs": [
    {
     "name": "stdout",
     "output_type": "stream",
     "text": [
      "5\n",
      "This is an odd number\n"
     ]
    }
   ],
   "source": [
    "x=int(input())\n",
    "if (x%2)==0:\n",
    "    print('This is an even no')\n",
    "\n",
    "else:\n",
    "    print('This is an odd number')"
   ]
  },
  {
   "cell_type": "code",
   "execution_count": 5,
   "id": "552eeb02",
   "metadata": {},
   "outputs": [
    {
     "name": "stdout",
     "output_type": "stream",
     "text": [
      "2002 ,2009 ,2016 ,2023 ,2037 ,2044 ,2051 ,2058 ,2072 ,2079 ,2086 ,2093 ,2107 ,2114 ,2121 ,2128 ,2142 ,2149 ,2156 ,2163 ,2177 ,2184 ,2191 ,2198 ,2212 ,2219 ,2226 ,2233 ,2247 ,2254 ,2261 ,2268 ,2282 ,2289 ,2296 ,2303 ,2317 ,2324 ,2331 ,2338 ,2352 ,2359 ,2366 ,2373 ,2387 ,2394 ,2401 ,2408 ,2422 ,2429 ,2436 ,2443 ,2457 ,2464 ,2471 ,2478 ,2492 ,2499 ,2506 ,2513 ,2527 ,2534 ,2541 ,2548 ,2562 ,2569 ,2576 ,2583 ,2597 ,2604 ,2611 ,2618 ,2632 ,2639 ,2646 ,2653 ,2667 ,2674 ,2681 ,2688 ,2702 ,2709 ,2716 ,2723 ,2737 ,2744 ,2751 ,2758 ,2772 ,2779 ,2786 ,2793 ,2807 ,2814 ,2821 ,2828 ,2842 ,2849 ,2856 ,2863 ,2877 ,2884 ,2891 ,2898 ,2912 ,2919 ,2926 ,2933 ,2947 ,2954 ,2961 ,2968 ,2982 ,2989 ,2996 ,3003 ,3017 ,3024 ,3031 ,3038 ,3052 ,3059 ,3066 ,3073 ,3087 ,3094 ,3101 ,3108 ,3122 ,3129 ,3136 ,3143 ,3157 ,3164 ,3171 ,3178 ,3192 ,3199 ,"
     ]
    }
   ],
   "source": [
    "x=2000\n",
    "y=3200\n",
    "z=x\n",
    "while z<=y:\n",
    "    if z%7==0 and z%5!=0:\n",
    "     print(z,end=\" ,\")\n",
    "    z+=1\n",
    "    "
   ]
  },
  {
   "cell_type": "code",
   "execution_count": 8,
   "id": "a6a451f2",
   "metadata": {},
   "outputs": [
    {
     "name": "stdout",
     "output_type": "stream",
     "text": [
      "enter the factorial8\n",
      "The factorial is\n",
      "40320\n"
     ]
    }
   ],
   "source": [
    "import math\n",
    "\n",
    "n = int (input('enter the factorial'))\n",
    "\n",
    "print ('The factorial is')\n",
    "\n",
    "print (math.factorial (n))"
   ]
  },
  {
   "cell_type": "code",
   "execution_count": 7,
   "id": "e4e1339b",
   "metadata": {},
   "outputs": [
    {
     "name": "stdout",
     "output_type": "stream",
     "text": [
      "hlota\n"
     ]
    }
   ],
   "source": [
    "x='hello team'\n",
    "print(x[0::2])"
   ]
  },
  {
   "cell_type": "code",
   "execution_count": null,
   "id": "2fa2078b",
   "metadata": {},
   "outputs": [],
   "source": [
    "x=int(input())\n",
    "if x<=200:\n",
    "    print('discount is 10%')\n",
    "elif x>200 and x<500:\n",
    "    print('30% discount')\n",
    "else:\n",
    "    print('50% discount.')\n",
    "    "
   ]
  },
  {
   "cell_type": "code",
   "execution_count": null,
   "id": "784894be",
   "metadata": {},
   "outputs": [],
   "source": []
  }
 ],
 "metadata": {
  "kernelspec": {
   "display_name": "Python 3 (ipykernel)",
   "language": "python",
   "name": "python3"
  },
  "language_info": {
   "codemirror_mode": {
    "name": "ipython",
    "version": 3
   },
   "file_extension": ".py",
   "mimetype": "text/x-python",
   "name": "python",
   "nbconvert_exporter": "python",
   "pygments_lexer": "ipython3",
   "version": "3.9.12"
  }
 },
 "nbformat": 4,
 "nbformat_minor": 5
}
