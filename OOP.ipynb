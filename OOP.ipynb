{
 "cells": [
  {
   "cell_type": "code",
   "execution_count": 1,
   "id": "a84fa45d",
   "metadata": {},
   "outputs": [
    {
     "name": "stdout",
     "output_type": "stream",
     "text": [
      "(1,2,3)\n"
     ]
    }
   ],
   "source": [
    "class Point3D:\n",
    "    def __init__(self,x,y,z):\n",
    "        self.x=x\n",
    "        self.y=y\n",
    "        self.z=z\n",
    "    def __repr__(self):\n",
    "        return f\"({self.x},{self.y},{self.z})\"\n",
    "my_point=Point3D(1,2,3)\n",
    "print(my_point)"
   ]
  },
  {
   "cell_type": "code",
   "execution_count": 2,
   "id": "62c1205a",
   "metadata": {},
   "outputs": [
    {
     "name": "stdout",
     "output_type": "stream",
     "text": [
      "12 14\n"
     ]
    }
   ],
   "source": [
    "class Rectangle:\n",
    "    def __init__(self,length,width):\n",
    "        self.length=length\n",
    "        self.width=width\n",
    "    def area (self):\n",
    "        return self.length*self.width\n",
    "    def perm(self):\n",
    "        return 2*(self.length+self.width)\n",
    "my_rectnagle=Rectangle(3,4)\n",
    "print(my_rectnagle.area(),my_rectnagle.perm())\n"
   ]
  },
  {
   "cell_type": "code",
   "execution_count": 3,
   "id": "31bd460c",
   "metadata": {},
   "outputs": [
    {
     "name": "stdout",
     "output_type": "stream",
     "text": [
      "The point is outside\n",
      "78.53981633974483 31.41592653589793\n"
     ]
    }
   ],
   "source": [
    "\n",
    "import math\n",
    "class circle:\n",
    "    def __init__(self,radius,x,y):\n",
    "        self.radius=radius\n",
    "        self.x=x\n",
    "        self.y=y\n",
    "\n",
    "    def area(self):\n",
    "        return math.pi*(self.radius**2)\n",
    "    def perm(self):\n",
    "        return 2*math.pi*self.radius\n",
    "    def inside(self,x1,y1):\n",
    "        if (x1-self.x)**2+(y1-self.y)**2<self.radius**2:\n",
    "            print('The point is inside')\n",
    "        else:\n",
    "            print('The point is outside')\n",
    "my_circle=circle(5,2,2)\n",
    "my_circle.inside(10,9)\n",
    "print(my_circle.area(),my_circle.perm())"
   ]
  },
  {
   "cell_type": "code",
   "execution_count": 5,
   "id": "06636371",
   "metadata": {},
   "outputs": [
    {
     "name": "stdout",
     "output_type": "stream",
     "text": [
      "50\n",
      "None\n"
     ]
    }
   ],
   "source": [
    "class Bank:\n",
    "    def __init__(self,balance,name):\n",
    "        self.balance=balance\n",
    "        self.name=name\n",
    "    def deposit(self,x):\n",
    "        self.balance+=x\n",
    "        return self.balance\n",
    "    def withdraw(self,x):\n",
    "        if x> self.balance:\n",
    "            print(\"No enough credit\")\n",
    "        else:\n",
    "            self.balance -= x\n",
    "            return self.balance\n",
    "\n",
    "    def show_balance(self):\n",
    "        print(self.balance)\n",
    "my_bank=Bank(100,'Ammar')\n",
    "my_bank.withdraw(50)\n",
    "print(my_bank.show_balance())\n"
   ]
  },
  {
   "cell_type": "code",
   "execution_count": null,
   "id": "48681347",
   "metadata": {},
   "outputs": [],
   "source": []
  },
  {
   "cell_type": "code",
   "execution_count": null,
   "id": "5881eb23",
   "metadata": {},
   "outputs": [],
   "source": []
  }
 ],
 "metadata": {
  "kernelspec": {
   "display_name": "Python 3 (ipykernel)",
   "language": "python",
   "name": "python3"
  },
  "language_info": {
   "codemirror_mode": {
    "name": "ipython",
    "version": 3
   },
   "file_extension": ".py",
   "mimetype": "text/x-python",
   "name": "python",
   "nbconvert_exporter": "python",
   "pygments_lexer": "ipython3",
   "version": "3.9.12"
  }
 },
 "nbformat": 4,
 "nbformat_minor": 5
}
