{
 "cells": [
  {
   "cell_type": "code",
   "execution_count": 1,
   "id": "473ea2ba",
   "metadata": {},
   "outputs": [
    {
     "data": {
      "text/plain": [
       "35"
      ]
     },
     "execution_count": 1,
     "metadata": {},
     "output_type": "execute_result"
    }
   ],
   "source": [
    "def fun1(a,b,c):\n",
    "    x=max(a,b,c)\n",
    "    return(x)\n",
    "fun1(20,35,19)"
   ]
  },
  {
   "cell_type": "code",
   "execution_count": 2,
   "id": "2b96feaf",
   "metadata": {},
   "outputs": [
    {
     "data": {
      "text/plain": [
       "35"
      ]
     },
     "execution_count": 2,
     "metadata": {},
     "output_type": "execute_result"
    }
   ],
   "source": [
    "def my_func(a):\n",
    "    x=(a)\n",
    "    return(x)\n",
    "my_func(max(20,35,19))\n"
   ]
  },
  {
   "cell_type": "code",
   "execution_count": 3,
   "id": "c173ec9e",
   "metadata": {},
   "outputs": [
    {
     "data": {
      "text/plain": [
       "(50, 30)"
      ]
     },
     "execution_count": 3,
     "metadata": {},
     "output_type": "execute_result"
    }
   ],
   "source": [
    "def my_func(a,b):\n",
    "    x=(a+b)\n",
    "    y=(a-b)\n",
    "    return(x,y)\n",
    "my_func(40,10)"
   ]
  },
  {
   "cell_type": "code",
   "execution_count": 4,
   "id": "a6b4e1fd",
   "metadata": {},
   "outputs": [
    {
     "name": "stdout",
     "output_type": "stream",
     "text": [
      "9 24\n"
     ]
    }
   ],
   "source": [
    "def my_func(a,b,c):\n",
    "    x=(a+b+c)\n",
    "    y=(a*b*c)\n",
    "    print(x,y)\n",
    "my_func(2,3,4)"
   ]
  },
  {
   "cell_type": "code",
   "execution_count": 5,
   "id": "88a72d92",
   "metadata": {},
   "outputs": [
    {
     "name": "stdout",
     "output_type": "stream",
     "text": [
      "30\n",
      "165\n"
     ]
    }
   ],
   "source": [
    "import math\n",
    "my_list = [1, 5, 4, 6, 8, 11, 3, 12]\n",
    "even_list = list(filter(lambda x: (x%2 == 0) , my_list))\n",
    "odd_list = list(filter(lambda x: (x%2 != 0) , my_list))\n",
    "print(sum(even_list))\n",
    "print(math.prod(odd_list ))"
   ]
  },
  {
   "cell_type": "code",
   "execution_count": 8,
   "id": "edb0fc04",
   "metadata": {},
   "outputs": [
    {
     "name": "stdout",
     "output_type": "stream",
     "text": [
      "3\n",
      "white \n",
      "red\n",
      "blue \n",
      "['blue ', 'red', 'white ']\n"
     ]
    }
   ],
   "source": [
    "\n",
    "inp=int(input())\n",
    "lis=list()\n",
    "for i in range (inp):\n",
    "    tmp=input()\n",
    "    lis.append(tmp)\n",
    "z=sorted(lis)\n",
    "print(z) "
   ]
  },
  {
   "cell_type": "code",
   "execution_count": null,
   "id": "a74e706b",
   "metadata": {},
   "outputs": [],
   "source": []
  }
 ],
 "metadata": {
  "kernelspec": {
   "display_name": "Python 3 (ipykernel)",
   "language": "python",
   "name": "python3"
  },
  "language_info": {
   "codemirror_mode": {
    "name": "ipython",
    "version": 3
   },
   "file_extension": ".py",
   "mimetype": "text/x-python",
   "name": "python",
   "nbconvert_exporter": "python",
   "pygments_lexer": "ipython3",
   "version": "3.9.12"
  }
 },
 "nbformat": 4,
 "nbformat_minor": 5
}
